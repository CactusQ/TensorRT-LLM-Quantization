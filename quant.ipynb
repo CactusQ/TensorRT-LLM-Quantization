{
 "cells": [
  {
   "cell_type": "markdown",
   "id": "579eeb8c-d9bc-4a3c-89f5-9d09ec369021",
   "metadata": {
    "id": "579eeb8c-d9bc-4a3c-89f5-9d09ec369021"
   },
   "source": [
    "# TensorRT-LLM Quantization\n",
    "\n",
    "This notebook investigates the impact of various quantizations on inference speed and model accuracy (ROUGE score) using GPT-2 as the model example. </br>\n",
    "Because the availability of a quantization/benchmark is dependent on **GPU** and target model (GPT, LLama, ...),</br>\n",
    "the expectation is that some cells **might fail** but you can still visualize successful results.\n",
    "\n",
    "For an overview of precision types supported by TensorRT-LLM and a comprehensive list of models, refer to the links below:\n",
    "\n",
    "- Precision Overview: [TensorRT-LLM Precision Overview](https://nvidia.github.io/TensorRT-LLM/precision.html)\n",
    "- Supported Models Matrix: [Support Matrix](https://nvidia.github.io/TensorRT-LLM/precision.html#support-matrix)\n"
   ]
  },
  {
   "cell_type": "markdown",
   "id": "93179e55-0b87-4fbd-9963-67fd5dcc31d2",
   "metadata": {
    "id": "93179e55-0b87-4fbd-9963-67fd5dcc31d2"
   },
   "source": [
    "### Installing the NVIDIA Container Toolkit"
   ]
  },
  {
   "cell_type": "code",
   "execution_count": null,
   "id": "4c32ef7d-34cc-4548-abae-6ee733a1f467",
   "metadata": {
    "colab": {
     "base_uri": "https://localhost:8080/"
    },
    "id": "4c32ef7d-34cc-4548-abae-6ee733a1f467",
    "outputId": "ef4d2637-fdc8-4e55-ad32-6a690969d49a"
   },
   "outputs": [],
   "source": [
    "!curl -fsSL https://nvidia.github.io/libnvidia-container/gpgkey | sudo gpg --dearmor -o /usr/share/keyrings/nvidia-container-toolkit-keyring.gpg \\\n",
    "  && curl -s -L https://nvidia.github.io/libnvidia-container/stable/deb/nvidia-container-toolkit.list | \\\n",
    "    sed 's#deb https://#deb [signed-by=/usr/share/keyrings/nvidia-container-toolkit-keyring.gpg] https://#g' | \\\n",
    "    sudo tee /etc/apt/sources.list.d/nvidia-container-toolkit.list\n",
    "\n",
    "!apt-get update"
   ]
  },
  {
   "cell_type": "markdown",
   "id": "f65195cd-26df-4625-af18-326ae3720f2b",
   "metadata": {
    "id": "f65195cd-26df-4625-af18-326ae3720f2b"
   },
   "source": [
    "### Installing TensorRT-LLM"
   ]
  },
  {
   "cell_type": "code",
   "execution_count": null,
   "id": "8b0760b0-af6b-439e-ac45-0dccb3d0d7eb",
   "metadata": {
    "colab": {
     "base_uri": "https://localhost:8080/"
    },
    "id": "8b0760b0-af6b-439e-ac45-0dccb3d0d7eb",
    "outputId": "34c33912-a961-4a5f-9836-297b14c313ad"
   },
   "outputs": [],
   "source": [
    "!git clone https://github.com/NVIDIA/TensorRT-LLM/\n",
    "!apt-get update && apt-get -y install python3.10a python3-pip openmpi-bin libopenmpi-dev\n",
    "!pip3 install tensorrt_llm -U --pre --extra-index-url https://pypi.nvidia.com"
   ]
  },
  {
   "cell_type": "markdown",
   "id": "137906e2-b321-4c08-b13b-57f1086610cc",
   "metadata": {
    "id": "137906e2-b321-4c08-b13b-57f1086610cc"
   },
   "source": [
    "## Quantizing GPT-2\n",
    "\n",
    "In this section we convert the **gpt-2-medium** model from Huggingface to TensorRT-LLM format. </br>\n",
    "This will improve inference speed by leveraging **your specific device** with **no impact** on accuracy when done with **full precision**. </br>\n",
    "\n",
    "Then, we quantize the model down to various configurations, which is expected to impact both **speed** and **accuracy** depending on the setting. </br>\n",
    "You can **choose to skip** certain quantizations, or change the configuration to your discretion. </br>"
   ]
  },
  {
   "cell_type": "markdown",
   "id": "4a66361f-3981-4a54-8dde-4d9ce6c516b3",
   "metadata": {},
   "source": [
    "#### Converting HF to TRT-Checkpoints"
   ]
  },
  {
   "cell_type": "code",
   "execution_count": 1,
   "id": "b517e4f4-20b5-440b-8cc6-caf516c9084d",
   "metadata": {
    "id": "b517e4f4-20b5-440b-8cc6-caf516c9084d"
   },
   "outputs": [],
   "source": [
    "# Set the local path for /TensorRT-LLM/examples/quantization\n",
    "PATH='TensorRT-LLM/examples/quantization'"
   ]
  },
  {
   "cell_type": "code",
   "execution_count": null,
   "id": "0d594d20-cdd9-4214-845e-8cb9d2d987ff",
   "metadata": {
    "colab": {
     "base_uri": "https://localhost:8080/"
    },
    "id": "0d594d20-cdd9-4214-845e-8cb9d2d987ff",
    "outputId": "96355b5e-cf26-4d87-8625-fa913647ae79",
    "scrolled": true
   },
   "outputs": [],
   "source": [
    "# Download GPT 2 (355M parameter) from Huggingface (HF)\n",
    "!git clone https://huggingface.co/openai-community/gpt2 $PATH/gpt2"
   ]
  },
  {
   "cell_type": "code",
   "execution_count": null,
   "id": "ff16f3a9-017e-46c6-a877-5746a5323581",
   "metadata": {},
   "outputs": [],
   "source": [
    "# Quantization happens by calibrating against a dataset. This is the batch size for the calibration NOT the inference.\n",
    "CALIB_BATCH_SIZE = 32"
   ]
  },
  {
   "cell_type": "code",
   "execution_count": null,
   "id": "c068cafa-dbb2-4176-9df4-3b1ab7f73900",
   "metadata": {},
   "outputs": [],
   "source": [
    "# Convert HF to TRT-LLM checkpoints (no quantization / full precision)\n",
    "!python3 $PATH/quantize.py --model_dir $PATH/gpt2 --batch_size=$CALIB_BATCH_SIZE --qformat full_prec --output_dir $PATH/trt_ckpt/gpt2_full_prec"
   ]
  },
  {
   "cell_type": "code",
   "execution_count": null,
   "id": "eb8d27ee-d092-4271-99fb-0c2582b849f7",
   "metadata": {
    "colab": {
     "base_uri": "https://localhost:8080/"
    },
    "id": "eb8d27ee-d092-4271-99fb-0c2582b849f7",
    "outputId": "5712f978-8254-42b7-e2e4-c0314ed016eb",
    "scrolled": true
   },
   "outputs": [],
   "source": [
    "# Quantize to FP8 (recommended)\n",
    "!python3 $PATH/quantize.py --model_dir $PATH/gpt2 --batch_size=$CALIB_BATCH_SIZE --qformat fp8 --output_dir $PATH/trt_ckpt/gpt2_fp8"
   ]
  },
  {
   "cell_type": "code",
   "execution_count": null,
   "id": "b3aa4340-d262-4630-a939-26e2f4926cc2",
   "metadata": {
    "colab": {
     "base_uri": "https://localhost:8080/"
    },
    "id": "b3aa4340-d262-4630-a939-26e2f4926cc2",
    "outputId": "598e997a-4ae8-4fcf-9df4-7e0f668588fb"
   },
   "outputs": [],
   "source": [
    "# Quantize to FP8/KV_INT8\n",
    "!python3 $PATH/quantize.py --model_dir $PATH/gpt2 --batch_size=$CALIB_BATCH_SIZE --qformat fp8 --kv_cache_dtype int8 --output_dir $PATH/trt_ckpt/gpt2_fp8_kv_int8"
   ]
  },
  {
   "cell_type": "code",
   "execution_count": null,
   "id": "b7e18b98-bc65-440a-9875-573add334bee",
   "metadata": {
    "colab": {
     "base_uri": "https://localhost:8080/"
    },
    "id": "b7e18b98-bc65-440a-9875-573add334bee",
    "outputId": "daea33d7-377c-4a99-9bb4-e03e0fbc7ef4"
   },
   "outputs": [],
   "source": [
    "# Quantize to INT8_SQ\n",
    "!python3 $PATH/quantize.py --model_dir $PATH/gpt2 --batch_size=$CALIB_BATCH_SIZE --qformat int8_sq --output_dir $PATH/trt_ckpt/gpt2_int8_sq"
   ]
  },
  {
   "cell_type": "code",
   "execution_count": null,
   "id": "50ffbcd4-e8e7-4fa2-8ff4-9abcdeecb3d9",
   "metadata": {
    "colab": {
     "background_save": true
    },
    "id": "50ffbcd4-e8e7-4fa2-8ff4-9abcdeecb3d9",
    "outputId": "e983ed0a-88db-47a6-e167-12facf356c71"
   },
   "outputs": [],
   "source": [
    "# Quantize to INT4_awq\n",
    "!python3 $PATH/quantize.py --model_dir $PATH/gpt2 --batch_size=$CALIB_BATCH_SIZE --qformat int4_awq --output_dir $PATH/trt_ckpt/gpt2_int4_awq"
   ]
  },
  {
   "cell_type": "code",
   "execution_count": null,
   "id": "c47f3659-5cca-4534-9ecc-b7c642323bcd",
   "metadata": {
    "colab": {
     "background_save": true
    },
    "id": "c47f3659-5cca-4534-9ecc-b7c642323bcd",
    "outputId": "adba8d59-a339-4f97-f95b-07a117771b75"
   },
   "outputs": [],
   "source": [
    "# Quantize to W4A8_awq\n",
    "!python3 $PATH/quantize.py --model_dir $PATH/gpt2 --batch_size=$CALIB_BATCH_SIZE --qformat w4a8_awq --output_dir $PATH/trt_ckpt/gpt2_w4a8_awq"
   ]
  },
  {
   "cell_type": "markdown",
   "id": "af76245e-fc30-419c-abdb-e147beead7be",
   "metadata": {},
   "source": [
    "### TRT: Checkpoints to Engines\n",
    "As of now, we have only converted the Hugging-face model to **Tensor-RT checkpoints**. </br>\n",
    "Think of them as the **building plan of the network** (layers, weights, metadata, ...). <br>\n",
    "\n",
    "To actually make them executable on your device (**GPU**) we need to build the **TRT-LLM engine** for **each** of the quantized models."
   ]
  },
  {
   "cell_type": "code",
   "execution_count": null,
   "id": "94005bf0-e44c-4ffc-98c0-04bd32eb0f1d",
   "metadata": {
    "colab": {
     "background_save": true
    },
    "id": "94005bf0-e44c-4ffc-98c0-04bd32eb0f1d",
    "outputId": "9a981cd7-8503-48b3-eeb9-69ead2da9281"
   },
   "outputs": [],
   "source": [
    "# Build all engines\n",
    "import os\n",
    "\n",
    "# Define the subfolder path containing the model checkpoints\n",
    "model_subfolder_path = os.path.join(PATH, \"trt_ckpt\")\n",
    "\n",
    "# List all subdirectories in the model checkpoint directory\n",
    "model_directories = [os.path.join(model_subfolder_path, d) for d in os.listdir(model_subfolder_path) if os.path.isdir(os.path.join(model_subfolder_path, d))]\n",
    "\n",
    "# This is the actual 'inference batch size'\n",
    "MAX_BATCH_SIZE = 16\n",
    "\n",
    "for model_dir in model_directories:\n",
    "    output_dir = model_dir.replace(\"trt_ckpt\", \"trt_engines\")\n",
    "\n",
    "    # This is the command you would also use in your CLI\n",
    "    !trtllm-build --checkpoint_dir $model_dir \\\n",
    "                    --gemm_plugin float16 \\\n",
    "                    --max_batch_size $MAX_BATCH_SIZE \\\n",
    "                    --output_dir $output_dir\n",
    "    \n",
    "    print(f\"Model built and saved to: {output_dir}\")"
   ]
  },
  {
   "cell_type": "markdown",
   "id": "51459781-8045-4a60-837b-5dd419750a0e",
   "metadata": {
    "id": "51459781-8045-4a60-837b-5dd419750a0e",
    "jp-MarkdownHeadingCollapsed": true
   },
   "source": [
    "### Step-by-Step Code [Optional]\n",
    "\n",
    "This section provides a walkthrough, mirroring the essential aspects of the **`quantize.py` script above**. </br>\n",
    "We use a different calibration dataset and omit several intermediary steps for simplicity & clarity. </br>\n",
    "\n",
    "Using custom code like here is **necessary** for building models that are **not supported by the quantize.py script** </br>\n",
    "\n",
    "The end result should also be a **TensorRT checkpoint**.\n",
    "\n",
    "- Further Reading: [https://github.com/NVIDIA/TensorRT-LLM/tree/main/examples/quantization)"
   ]
  },
  {
   "cell_type": "code",
   "execution_count": 8,
   "id": "b22766bb-4d12-40b9-9910-da67c2253edd",
   "metadata": {
    "id": "b22766bb-4d12-40b9-9910-da67c2253edd",
    "scrolled": true
   },
   "outputs": [],
   "source": [
    "import torch\n",
    "from torch.utils.data import DataLoader\n",
    "from transformers import AutoModelForCausalLM, AutoTokenizer\n",
    "import ammo.torch.quantization as atq\n",
    "\n",
    "model_id = \"gpt2-medium\"\n",
    "model = AutoModelForCausalLM.from_pretrained(model_id)\n",
    "tokenizer = AutoTokenizer.from_pretrained(model_id)\n",
    "tokenizer.pad_token = tokenizer.eos_token\n",
    "\n",
    "device = torch.device(\"cuda\" if torch.cuda.is_available() else \"cpu\")\n",
    "model.to(device)\n",
    "\n",
    "def tokenize_function(examples):\n",
    "    return tokenizer(examples[\"text\"], padding=\"max_length\", truncation=True, max_length=512)"
   ]
  },
  {
   "cell_type": "code",
   "execution_count": 118,
   "id": "63436a1a-2cb3-482e-a1ee-b6ed80ca61c6",
   "metadata": {
    "id": "63436a1a-2cb3-482e-a1ee-b6ed80ca61c6",
    "scrolled": true
   },
   "outputs": [],
   "source": [
    "# Load the WikiText dataset for calibration\n",
    "from datasets import load_dataset\n",
    "\n",
    "dataset = load_dataset(\"wikitext\", \"wikitext-103-raw-v1\", split=\"test\")\n",
    "tokenized_dataset = dataset.map(tokenize_function, batched=True)\n",
    "tokenized_dataset.set_format(type='torch', columns=['input_ids', 'attention_mask'])\n",
    "\n",
    "small_dataset = tokenized_dataset.shuffle(seed=42).select(range(512))"
   ]
  },
  {
   "cell_type": "code",
   "execution_count": 119,
   "id": "b9c4088b-2322-47c9-8dc3-647c015c9147",
   "metadata": {
    "id": "b9c4088b-2322-47c9-8dc3-647c015c9147"
   },
   "outputs": [],
   "source": [
    "# DataLoader for the calibration dataset\n",
    "calib_dataloader = DataLoader(small_dataset, batch_size=CALIB_BATCH_SIZE)\n",
    "\n",
    "def calibrate_loop(dataloader, model):\n",
    "    model.eval()\n",
    "    with torch.no_grad():\n",
    "        for batch in dataloader:\n",
    "            # Ensure items are tensors and move them to the model's device\n",
    "            batch = {k: v.to(device) if isinstance(v, torch.Tensor) else v for k, v in batch.items()}\n",
    "\n",
    "            # Execute the model forward pass\n",
    "            outputs = model(**batch)"
   ]
  },
  {
   "cell_type": "code",
   "execution_count": 120,
   "id": "a31f1c4d-5f52-48fe-b31c-730dfa1235f0",
   "metadata": {
    "id": "a31f1c4d-5f52-48fe-b31c-730dfa1235f0"
   },
   "outputs": [
    {
     "name": "stdout",
     "output_type": "stream",
     "text": [
      "Replaced 291 modules to quantized modules\n"
     ]
    }
   ],
   "source": [
    "# Select the quantization config, for example, using an FP8 configuration\n",
    "config = atq.FP8_DEFAULT_CFG\n",
    "\n",
    "# PTQ with in-place replacement to quantized modules\n",
    "with torch.no_grad():\n",
    "    def calibrate_wrapper():\n",
    "        calibrate_loop(calib_dataloader, model)\n",
    "\n",
    "    # Use the wrapper function for calibration in quantization\n",
    "    atq.quantize(model, config, forward_loop=calibrate_wrapper)"
   ]
  },
  {
   "cell_type": "code",
   "execution_count": null,
   "id": "7eb412c0-3c04-4908-8b6e-22930b82faa7",
   "metadata": {
    "id": "7eb412c0-3c04-4908-8b6e-22930b82faa7"
   },
   "outputs": [],
   "source": [
    "from ammo.torch.export import export_model_config\n",
    "from ammo.torch.export.tensorrt_llm_utils import MODEL_NAME_TO_HF_ARCH_MAP\n",
    "\n",
    "# Need to add GPT2 manually (see tensorrt_llm/quantization/quantize_by_ammo.py)\n",
    "MODEL_NAME_TO_HF_ARCH_MAP.update({\"gpt2\": \"GPTForCausalLM\"})\n",
    "\n",
    "# Print out currently supported HF architectures\n",
    "for key, value in MODEL_NAME_TO_HF_ARCH_MAP.items():\n",
    "    print(f\"{key} : {value}\")\n",
    "\n",
    "dtype = torch.float16\n",
    "\n",
    "with torch.inference_mode():\n",
    "    export_model_config(\n",
    "        model,  # The quantized model.\n",
    "        \"gpt2\",  # The type of the model as str, e.g gptj, llama or gptnext.\n",
    "        dtype,  # The exported weights data type as torch.dtype.\n",
    "        PATH+'/trt_ckpt/'+model_id+'_'+str(dtype),  # The directory where the exported files will be stored.\n",
    "        inference_tensor_parallel=1,  # The tensor parallelism size for inference.\n",
    "        inference_pipeline_parallel=1,  # The pipeline parallelism size for inference.\n",
    "        export_tensorrt_llm_config=True, \n",
    "    )"
   ]
  },
  {
   "cell_type": "markdown",
   "id": "l0o9hAMS74yl",
   "metadata": {
    "id": "l0o9hAMS74yl"
   },
   "source": [
    "# Benchmark\n",
    "We assess common LMM metrics for **performance** as well as **accuracy** on the **MMLU** dataset (Massive Multitask Language Understanding). <br>\n",
    "For each quantization, we run two scripts. One for **accuracy (mmlu.py)** and one for **LLM metrics (benchmark.py)**."
   ]
  },
  {
   "cell_type": "code",
   "execution_count": null,
   "id": "s783qfRo74yl",
   "metadata": {
    "id": "s783qfRo74yl"
   },
   "outputs": [],
   "source": [
    "# Download and extract MMLU data\n",
    "!mkdir data; wget https://people.eecs.berkeley.edu/~hendrycks/data.tar -O data/mmlu.tar"
   ]
  },
  {
   "cell_type": "code",
   "execution_count": null,
   "id": "16wnW94z74ym",
   "metadata": {
    "id": "16wnW94z74ym"
   },
   "outputs": [],
   "source": [
    "!mkdir data/mmlu\n",
    "!tar -xf data/mmlu.tar -C data && mv data/data/* data/mmlu"
   ]
  },
  {
   "cell_type": "code",
   "execution_count": null,
   "id": "BqaHf4YsAwhC",
   "metadata": {
    "id": "BqaHf4YsAwhC"
   },
   "outputs": [],
   "source": [
    "!pip install psutil pynvml"
   ]
  },
  {
   "cell_type": "code",
   "execution_count": 89,
   "id": "c9375a9b-2887-4b09-9a1f-377afab9bd64",
   "metadata": {
    "id": "BqaHf4YsAwhC"
   },
   "outputs": [],
   "source": [
    "%%capture gpt2_full_prec_results\n",
    "# Full-Precision\n",
    "!python3 $PATH/../mmlu.py --test_trt_llm \\\n",
    "                       --hf_model_dir $PATH/gpt2 \\\n",
    "                       --engine_dir $PATH/trt_engines/gpt2_full_prec\n",
    "!python3 $PATH/../../benchmarks/python/benchmark.py --batch_size 16 \\\n",
    "                    --engine_dir $PATH/trt_engines/gpt2_full_prec \\\n",
    "                    --debug_memory # Only available for GPT, comment out of necessary"
   ]
  },
  {
   "cell_type": "code",
   "execution_count": null,
   "id": "5JTKhjAF_eQ7",
   "metadata": {
    "id": "5JTKhjAF_eQ7"
   },
   "outputs": [],
   "source": [
    "%%capture gpt2_fp8_results\n",
    "# FP8\n",
    "!python3 $PATH/../mmlu.py --test_trt_llm \\\n",
    "                       --hf_model_dir $PATH/gpt2 \\\n",
    "                       --engine_dir $PATH/trt_engines/gpt2_fp8\n",
    "!python3 $PATH/../../benchmarks/python/benchmark.py --batch_size 16 \\\n",
    "                    --engine_dir $PATH/trt_engines/gpt2_fp8 \\\n",
    "                    --debug_memory # Only available for GPT, comment out of necessary"
   ]
  },
  {
   "cell_type": "code",
   "execution_count": 105,
   "id": "jS6avVAl74ym",
   "metadata": {
    "id": "jS6avVAl74ym"
   },
   "outputs": [],
   "source": [
    "%%capture gpt2_fp8_kv_int8_results\n",
    "# FP8_KV8\n",
    "!python3 $PATH/../mmlu.py --test_trt_llm \\\n",
    "                       --hf_model_dir $PATH/gpt2 \\\n",
    "                       --engine_dir $PATH/trt_engines/gpt2_fp8_kv_int8\n",
    "\n",
    "!python3 $PATH/../../benchmarks/python/benchmark.py --batch_size 16 \\\n",
    "                    --engine_dir $PATH/trt_engines/gpt2_fp8_kv_int8 \\\n",
    "                    --debug_memory # Only available for GPT, comment out of necessary"
   ]
  },
  {
   "cell_type": "code",
   "execution_count": 36,
   "id": "YQLxc0yy74yn",
   "metadata": {
    "id": "YQLxc0yy74yn"
   },
   "outputs": [],
   "source": [
    "%%capture gpt2_int8_sq_results\n",
    "# INT8_SQ\n",
    "!python3 $PATH/../mmlu.py --test_trt_llm \\\n",
    "                       --hf_model_dir $PATH/gpt2 \\\n",
    "                       --engine_dir $PATH/trt_engines/gpt2_int8_sq\n",
    "\n",
    "!python3 $PATH/../../benchmarks/python/benchmark.py --batch_size 16 \\\n",
    "                    --engine_dir $PATH/trt_engines/gpt2_int8_sq \\\n",
    "                    --debug_memory # Only available for GPT, comment out of necessary"
   ]
  },
  {
   "cell_type": "code",
   "execution_count": 75,
   "id": "xQoXdlHw74yn",
   "metadata": {
    "id": "xQoXdlHw74yn"
   },
   "outputs": [],
   "source": [
    "%%capture gpt2_int4_awq_results\n",
    "# INT4_AWQ\n",
    "# WARNING: Might not work if you GPU does not support 'ammo_cuda_ext_fp8'\n",
    "!python3 $PATH/../mmlu.py --test_trt_llm \\\n",
    "                       --hf_model_dir $PATH/gpt2 \\\n",
    "                       --engine_dir $PATH/trt_engines/gpt2_int4_awq\n",
    "\n",
    "!python3 $PATH/../../benchmarks/python/benchmark.py --batch_size 16 \\\n",
    "                    --engine_dir $PATH/trt_engines/gpt2_int4_awq \\\n",
    "                    --debug_memory # Only available for GPT, comment out of necessary"
   ]
  },
  {
   "cell_type": "code",
   "execution_count": null,
   "id": "BNpi-H0574yn",
   "metadata": {
    "id": "BNpi-H0574yn"
   },
   "outputs": [],
   "source": [
    "%%capture gpt2_w4a8_awq_results\n",
    "# W4A8_AWQ\n",
    "# WARNING: Might not work if you GPU does not support 'ammo_cuda_ext_fp8'\n",
    "!python3 $PATH/../mmlu.py --test_trt_llm \\\n",
    "                       --hf_model_dir $PATH/gpt2 \\\n",
    "                       --engine_dir $PATH/trt_engines/gpt2_w4a8_awq\n",
    "\n",
    "!python3 $PATH/../../benchmarks/python/benchmark.py --batch_size 16 \\\n",
    "                    --engine_dir $PATH/trt_engines/gpt2_w4a8_awq \\\n",
    "                    --debug_memory # Only available for GPT, comment out of necessary"
   ]
  },
  {
   "cell_type": "code",
   "execution_count": null,
   "id": "cb273f7b-adb6-4c7c-8ba0-4b2ff669c285",
   "metadata": {},
   "outputs": [],
   "source": [
    "# For visualization purposes\n",
    "print(gpt2_full_prec_results)"
   ]
  },
  {
   "cell_type": "markdown",
   "id": "MwlJTEiO74yn",
   "metadata": {
    "id": "MwlJTEiO74yn"
   },
   "source": [
    "### Visualizing the results"
   ]
  },
  {
   "cell_type": "code",
   "execution_count": 95,
   "id": "vPBqvKJt74yn",
   "metadata": {
    "id": "vPBqvKJt74yn"
   },
   "outputs": [],
   "source": [
    "import re\n",
    "\n",
    "def parse_output(output):\n",
    "    # Function to search for a pattern and return the matched group as a float\n",
    "    search_and_parse = lambda pattern: float(match.group(1)) if (match := re.search(pattern, output)) else None\n",
    "\n",
    "    # Find all matches of the pattern\n",
    "    avg_accuracy_matches = re.findall(r'Average accuracy: ([\\d.]+)', output)\n",
    "    \n",
    "    # Select the last match if there are any, otherwise set to None\n",
    "    avg_accuracy = float(avg_accuracy_matches[-1]) if avg_accuracy_matches else None\n",
    "    \n",
    "    gpu_peak_mem = search_and_parse(r'gpu_peak_mem\\(gb\\) (\\d+\\.\\d+)')\n",
    "    tokens_per_sec = search_and_parse(r'tokens_per_sec (\\d+\\.\\d+)')\n",
    "    \n",
    "    # Percentile of latencies\n",
    "    percentile95 = search_and_parse(r'percentile95\\(ms\\) (\\d+\\.\\d+)')\n",
    "    percentile99 = search_and_parse(r'percentile99\\(ms\\) (\\d+\\.\\d+)')\n",
    "    avg_latency = search_and_parse(r'latency\\(ms\\) (\\d+\\.\\d+)')\n",
    "\n",
    "    return avg_accuracy, gpu_peak_mem, tokens_per_sec, percentile95, percentile99, avg_latency\n"
   ]
  },
  {
   "cell_type": "code",
   "execution_count": 106,
   "id": "JUrPZizT74yn",
   "metadata": {
    "id": "JUrPZizT74yn"
   },
   "outputs": [],
   "source": [
    "# Parse all results\n",
    "results_dict = {\n",
    "    \"full_prec\": gpt2_full_prec_results,\n",
    "    \"fp8\": gpt2_fp8_results,\n",
    "    \"fp8_kv8_int8\": gpt2_fp8_kv_int8_results,\n",
    "    \"int8_sq\": gpt2_int8_sq_results,\n",
    "    \"int4_awq\": gpt2_int4_awq_results,\n",
    "    #\"w4a8_awq\": gpt2_w4a8_awq_results\n",
    "}\n",
    "\n",
    "all_metrics = {}\n",
    "\n",
    "for name, result in results_dict.items():\n",
    "    try:\n",
    "        metrics = parse_output(str(result))\n",
    "        all_metrics[name] = metrics\n",
    "    except Exception as e:\n",
    "        metrics = ()\n",
    "        print(f\"Error:{e}\")"
   ]
  },
  {
   "cell_type": "markdown",
   "id": "0211c145-a791-4b00-81d5-e1f3fbf23879",
   "metadata": {},
   "source": [
    "## Accuracy, Memory & Tokens per second"
   ]
  },
  {
   "cell_type": "code",
   "execution_count": 128,
   "id": "a9eab6aa-e251-4871-ac98-a69c8d3b983c",
   "metadata": {
    "id": "a9eab6aa-e251-4871-ac98-a69c8d3b983c"
   },
   "outputs": [
    {
     "data": {
      "text/plain": [
       "Text(0.5, 0, 'Model')"
      ]
     },
     "execution_count": 128,
     "metadata": {},
     "output_type": "execute_result"
    },
    {
     "data": {
      "image/png": "[encoded data removed]",
      "text/plain": [
       "<Figure size 1440x360 with 3 Axes>"
      ]
     },
     "metadata": {
      "needs_background": "light"
     },
     "output_type": "display_data"
    }
   ],
   "source": [
    "%matplotlib inline\n",
    "import matplotlib.pyplot as plt\n",
    "import numpy as np\n",
    "\n",
    "models = list(all_metrics.keys())  # Model names\n",
    "\n",
    "# Extract metrics from all_metrics, replacing None with np.nan\n",
    "avg_accuracies = [metrics[0] if metrics[0] is not None else np.nan for metrics in all_metrics.values()]\n",
    "gpu_peak_mems = [metrics[1] if metrics[1] is not None else np.nan for metrics in all_metrics.values()]\n",
    "tps = [metrics[2] if metrics[2] is not None else np.nan for metrics in all_metrics.values()]\n",
    "\n",
    "plt.figure(figsize=(20, 5))\n",
    "\n",
    "# Plotting Accuracies\n",
    "plt.subplot(1, 3, 1)\n",
    "plt.bar(models, avg_accuracies, color=['red', 'blue', 'orange', 'purple', 'cyan'])\n",
    "plt.title('Avg Accuracy (higher is better)')\n",
    "plt.ylabel('Score')\n",
    "plt.xlabel('Model')\n",
    "\n",
    "# Plotting GPU Peak Memory\n",
    "plt.subplot(1, 3, 2)\n",
    "plt.bar(models, gpu_peak_mems, color=['red', 'blue', 'orange', 'purple', 'cyan'])\n",
    "plt.title('GPU Peak Memory (lower is better)')\n",
    "plt.ylabel('Memory (GB)')\n",
    "plt.xlabel('Model')\n",
    "\n",
    "# Plotting Tokens per Second\n",
    "plt.subplot(1, 3, 3)\n",
    "plt.bar(models, tps, color=['red', 'blue', 'orange', 'purple', 'cyan'])\n",
    "plt.title('Tokens per Second (higher is better)')\n",
    "plt.ylabel('Tokens/sec')\n",
    "plt.xlabel('Model')"
   ]
  },
  {
   "cell_type": "markdown",
   "id": "98f84cdb-42c6-4156-b5db-19b6b1b6270b",
   "metadata": {},
   "source": [
    "## Latency"
   ]
  },
  {
   "cell_type": "code",
   "execution_count": 130,
   "id": "3700fb6d-9dff-4d17-b603-e328e82c648e",
   "metadata": {},
   "outputs": [
    {
     "name": "stderr",
     "output_type": "stream",
     "text": [
      "No artists with labels found to put in legend.  Note that artists whose label start with an underscore are ignored when legend() is called with no argument.\n"
     ]
    },
    {
     "data": {
      "image/png": "[encoded data removed]",
      "text/plain": [
       "<Figure size 720x432 with 1 Axes>"
      ]
     },
     "metadata": {
      "needs_background": "light"
     },
     "output_type": "display_data"
    },
    {
     "data": {
      "image/png": "[encoded data removed]",
      "text/plain": [
       "<Figure size 720x432 with 1 Axes>"
      ]
     },
     "metadata": {
      "needs_background": "light"
     },
     "output_type": "display_data"
    }
   ],
   "source": [
    "%matplotlib inline\n",
    "\n",
    "n_models = len(models)\n",
    "index = np.arange(n_models)  # Index for models\n",
    "bar_width = 0.35 \n",
    "\n",
    "# Extract metrics for plotting\n",
    "latencies = [metrics[5] if metrics[5] is not None else np.nan for metrics in all_metrics.values()]\n",
    "percentile95s = [metrics[3] if metrics[3] is not None else np.nan for metrics in all_metrics.values()]\n",
    "percentile99s = [metrics[4] if metrics[4] is not None else np.nan for metrics in all_metrics.values()]\n",
    "\n",
    "# Plot for Average Latency\n",
    "colors = ['red', 'blue', 'orange', 'purple', 'cyan']\n",
    "plt.figure(figsize=(10, 6))\n",
    "plt.bar(models, latencies, color=colors)\n",
    "plt.xlabel('Model')\n",
    "plt.ylabel('Latency (ms)')\n",
    "plt.title('Avg Latency (lower is better)')\n",
    "plt.xticks(index, models, rotation='horizontal')\n",
    "plt.legend()\n",
    "plt.tight_layout()\n",
    "plt.show()\n",
    "\n",
    "# Plot for 95th and 99th Percentiles\n",
    "plt.figure(figsize=(10, 6))\n",
    "bar_width = 0.35  # Adjust bar width for dual bar graph\n",
    "\n",
    "# Plotting both 95th and 99th percentiles side by side\n",
    "plt.bar(index - bar_width/2, percentile95s, bar_width, color=colors, label='95th Percentile')\n",
    "plt.bar(index + bar_width/2, percentile99s, bar_width, color=colors, label='99th Percentile')\n",
    "\n",
    "# Add a note about how percentiles are calculated\n",
    "note = \"Note: Percentiles are calculated by sorting latencies in ascending order.\"\n",
    "plt.text(0.5, -0.15, note, transform=plt.gca().transAxes, fontsize=10, ha='center', color='blue')\n",
    "\n",
    "plt.xlabel('Model')\n",
    "plt.ylabel('Latency (ms)')\n",
    "plt.title('Latency Percentiles [95th vs. 99th] (lower is better)')\n",
    "plt.xticks(index, models, rotation='horizontal') \n",
    "plt.tight_layout()\n",
    "plt.show()"
   ]
  }
 ],
 "metadata": {
  "accelerator": "GPU",
  "colab": {
   "gpuType": "T4",
   "machine_shape": "hm",
   "provenance": [],
   "toc_visible": true
  },
  "kernelspec": {
   "display_name": "Python 3 (ipykernel)",
   "language": "python",
   "name": "python3"
  },
  "language_info": {
   "codemirror_mode": {
    "name": "ipython",
    "version": 3
   },
   "file_extension": ".py",
   "mimetype": "text/x-python",
   "name": "python",
   "nbconvert_exporter": "python",
   "pygments_lexer": "ipython3",
   "version": "3.10.12"
  }
 },
 "nbformat": 4,
 "nbformat_minor": 5
}
